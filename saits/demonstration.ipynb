{
 "cells": [
  {
   "cell_type": "code",
   "execution_count": null,
   "metadata": {},
   "outputs": [],
   "source": [
    "!pip install -r requirements.txt"
   ]
  },
  {
   "cell_type": "code",
   "execution_count": null,
   "metadata": {},
   "outputs": [],
   "source": [
    "from pypots.imputation import SAITS\n",
    "import pandas as pd\n",
    "import numpy as np"
   ]
  },
  {
   "cell_type": "code",
   "execution_count": 2,
   "metadata": {},
   "outputs": [],
   "source": [
    "def form_train(array, seq_len, step):\n",
    "    result_list = []\n",
    "    for i in range(seq_len, len(array) + 1, step):\n",
    "        result_list.append(np.expand_dims(array[i - seq_len : i], axis=0))\n",
    "    return np.concatenate(result_list, axis=0)"
   ]
  },
  {
   "cell_type": "code",
   "execution_count": null,
   "metadata": {},
   "outputs": [],
   "source": [
    "data = pd.read_csv(\"data.csv\")\n",
    "seq_len = 40\n",
    "train_values = form_train(data.drop(\"Date\", axis=1).values, seq_len, 1)\n",
    "assert np.allclose(\n",
    "    train_values[1][0][~np.isnan(train_values[1][0])], \n",
    "    train_values[0][1][~np.isnan(train_values[0][1])]\n",
    ")\n",
    "\n",
    "train_data = {\"X\": train_values, \"missing_mask\": np.zeros_like(train_values)}"
   ]
  },
  {
   "cell_type": "code",
   "execution_count": null,
   "metadata": {},
   "outputs": [],
   "source": [
    "model_params = {\n",
    "    \"n_layers\": 2,\n",
    "    \"d_model\": 64,\n",
    "    \"d_inner\": 32,\n",
    "    \"n_heads\": 4,\n",
    "    \"d_k\": 32,\n",
    "    \"d_v\": 32,\n",
    "    \"dropout\": 0.1,\n",
    "    \"epochs\": 20,\n",
    "    \"n_steps\": seq_len,\n",
    "    \"n_features\": train_data[\"X\"].shape[-1],\n",
    "    \"epochs\": 20\n",
    "}\n",
    "model = SAITS(**model_params)\n",
    "# model.fit(train_data)\n",
    "# model.save_model(\"weights\", \"pretrained_weights.pypots\")\n",
    "model.load_model(\"weights/pretrained_weights.pypots\")"
   ]
  },
  {
   "cell_type": "code",
   "execution_count": null,
   "metadata": {},
   "outputs": [],
   "source": [
    "input_data_t = {'X': torch.tensor(train_data['X'], dtype=torch.float32),\n",
    "               'missing_mask': torch.tensor(train_data['missing_mask'], dtype=torch.float32)}"
   ]
  },
  {
   "cell_type": "code",
   "execution_count": null,
   "metadata": {},
   "outputs": [],
   "source": [
    "out = model.model(input_data_t, True, False)"
   ]
  }
 ],
 "metadata": {
  "kernelspec": {
   "display_name": "Python 3",
   "language": "python",
   "name": "python3"
  },
  "language_info": {
   "codemirror_mode": {
    "name": "ipython",
    "version": 3
   },
   "file_extension": ".py",
   "mimetype": "text/x-python",
   "name": "python",
   "nbconvert_exporter": "python",
   "pygments_lexer": "ipython3",
   "version": "3.12.7"
  }
 },
 "nbformat": 4,
 "nbformat_minor": 2
}

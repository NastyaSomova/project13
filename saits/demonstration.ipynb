{
 "cells": [
  {
   "cell_type": "code",
   "execution_count": 1,
   "metadata": {},
   "outputs": [
    {
     "name": "stderr",
     "output_type": "stream",
     "text": [
      "2025-02-05 16:50:33 [ERROR]: No module named 'torch_geometric'\n",
      "torch_geometric is missing, please install it with 'pip install torch_geometric' or 'conda install -c pyg pyg'\n",
      "2025-02-05 16:50:33 [ERROR]: name 'MessagePassing' is not defined\n",
      "Note torch_geometric is missing, please install it with 'pip install torch_geometric' or 'conda install -c pyg pyg'\n"
     ]
    }
   ],
   "source": [
    "from pypots.imputation import SAITS\n",
    "import pandas as pd\n",
    "import numpy as np"
   ]
  },
  {
   "cell_type": "code",
   "execution_count": 2,
   "metadata": {},
   "outputs": [],
   "source": [
    "def form_train(array, seq_len, step):\n",
    "    result_list = []\n",
    "    for i in range(seq_len, len(array) + 1, step):\n",
    "        result_list.append(np.expand_dims(array[i - seq_len : i], axis=0))\n",
    "    return np.concatenate(result_list, axis=0)"
   ]
  },
  {
   "cell_type": "code",
   "execution_count": 3,
   "metadata": {},
   "outputs": [],
   "source": [
    "data = pd.read_csv(\"data.csv\")\n",
    "seq_len = 40\n",
    "train_values = form_train(data.drop(\"Date\", axis=1).values, seq_len, 1)\n",
    "assert np.allclose(\n",
    "    train_values[1][0][~np.isnan(train_values[1][0])], \n",
    "    train_values[0][1][~np.isnan(train_values[0][1])]\n",
    ")\n",
    "\n",
    "train_data = {\"X\": train_values}"
   ]
  },
  {
   "cell_type": "code",
   "execution_count": 5,
   "metadata": {},
   "outputs": [
    {
     "name": "stderr",
     "output_type": "stream",
     "text": [
      "2025-02-05 16:50:43 [INFO]: No given device, using default device: cpu\n",
      "2025-02-05 16:50:43 [WARNING]: saving_path not given. Model files and tensorboard file will not be saved.\n",
      "2025-02-05 16:50:43 [INFO]: Model initialized successfully with the number of trainable parameters: 583,062\n",
      "2025-02-05 16:50:43 [INFO]: Model loaded successfully from weights/pretrained_weights.pypots.\n"
     ]
    }
   ],
   "source": [
    "model_params = {\n",
    "    \"n_layers\": 2,\n",
    "    \"d_model\": 64,\n",
    "    \"d_inner\": 32,\n",
    "    \"n_heads\": 4,\n",
    "    \"d_k\": 32,\n",
    "    \"d_v\": 32,\n",
    "    \"dropout\": 0.1,\n",
    "    \"epochs\": 20,\n",
    "    \"n_steps\": seq_len,\n",
    "    \"n_features\": train_data[\"X\"].shape[-1],\n",
    "    \"epochs\": 20\n",
    "}\n",
    "model = SAITS(**model_params)\n",
    "# model.fit(train_data)\n",
    "# model.save_model(\"weights\", \"pretrained_weights.pypots\")\n",
    "model.load_model(\"weights/pretrained_weights.pypots\")"
   ]
  },
  {
   "cell_type": "code",
   "execution_count": 9,
   "metadata": {},
   "outputs": [],
   "source": [
    "result = model.predict(train_data, return_latent_vars=True)"
   ]
  }
 ],
 "metadata": {
  "kernelspec": {
   "display_name": "Python 3",
   "language": "python",
   "name": "python3"
  },
  "language_info": {
   "codemirror_mode": {
    "name": "ipython",
    "version": 3
   },
   "file_extension": ".py",
   "mimetype": "text/x-python",
   "name": "python",
   "nbconvert_exporter": "python",
   "pygments_lexer": "ipython3",
   "version": "3.12.7"
  }
 },
 "nbformat": 4,
 "nbformat_minor": 2
}

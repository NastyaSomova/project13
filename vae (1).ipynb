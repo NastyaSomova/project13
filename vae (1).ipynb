{
  "cells": [
    {
      "cell_type": "code",
      "execution_count": 1,
      "metadata": {
        "id": "-yLntvQdxRvK"
      },
      "outputs": [],
      "source": [
        "import torch\n",
        "import torch.nn as nn\n",
        "\n",
        "import numpy as np\n",
        "\n",
        "from tqdm import tqdm\n",
        "from torchvision.utils import save_image, make_grid"
      ]
    },
    {
      "cell_type": "code",
      "execution_count": 2,
      "metadata": {
        "id": "SX9aU_TOxRvM"
      },
      "outputs": [],
      "source": [
        "# IO-related\n",
        "import os.path as osp\n",
        "\n",
        "import imageio\n",
        "\n",
        "%matplotlib inline\n",
        "import matplotlib.pyplot as plt\n",
        "import matplotlib.ticker as ticker\n",
        "\n",
        "# image processing\n",
        "import numpy as np\n",
        "\n",
        "# visualization\n",
        "import plotly.graph_objects as go\n",
        "import scipy.ndimage as ndi\n",
        "import scipy.signal as scs\n",
        "import seaborn as sns\n",
        "import skimage as ski\n",
        "import skimage.measure as skmeas\n",
        "import skimage.morphology as skm\n",
        "from PIL import Image\n",
        "\n",
        "import time\n",
        "import math"
      ]
    },
    {
      "cell_type": "code",
      "execution_count": 3,
      "metadata": {
        "id": "s2bmE6BkxRvN"
      },
      "outputs": [],
      "source": [
        "from torchvision.datasets import MNIST\n",
        "import torchvision.transforms as transforms\n",
        "from torch.utils.data import DataLoader"
      ]
    },
    {
      "cell_type": "code",
      "execution_count": 4,
      "metadata": {
        "id": "eUtlK-IBxRvN"
      },
      "outputs": [],
      "source": [
        "# Model Hyperparameters\n",
        "dataset_path = '~/datasets'\n",
        "DEVICE = torch.device(\"cuda\" if torch.cuda.is_available() else \"cpu\")\n",
        "batch_size = 100\n",
        "x_dim  = 784\n",
        "hidden_dim = 400\n",
        "latent_dim = 200\n",
        "lr = 1e-3\n",
        "epochs = 30"
      ]
    },
    {
      "cell_type": "code",
      "execution_count": null,
      "metadata": {
        "id": "aEre-8fxxRvN"
      },
      "outputs": [],
      "source": [
        "mnist_transform = transforms.Compose([\n",
        "        transforms.ToTensor(),\n",
        "])\n",
        "\n",
        "kwargs = {'num_workers': 1, 'pin_memory': True}\n",
        "\n",
        "train_dataset = MNIST(dataset_path, transform=mnist_transform, train=True, download=True)\n",
        "test_dataset  = MNIST(dataset_path, transform=mnist_transform, train=False, download=True)\n",
        "\n",
        "train_loader = DataLoader(dataset=train_dataset, batch_size=batch_size, shuffle=True, **kwargs)\n",
        "test_loader  = DataLoader(dataset=test_dataset,  batch_size=batch_size, shuffle=False, **kwargs)"
      ]
    },
    {
      "cell_type": "code",
      "execution_count": 6,
      "metadata": {
        "colab": {
          "base_uri": "https://localhost:8080/",
          "height": 448
        },
        "id": "r2ng-93CxRvN",
        "outputId": "2188760e-3162-4b6f-bcc1-2ea912241617"
      },
      "outputs": [
        {
          "output_type": "execute_result",
          "data": {
            "text/plain": [
              "<matplotlib.image.AxesImage at 0x7d4555bc5910>"
            ]
          },
          "metadata": {},
          "execution_count": 6
        },
        {
          "output_type": "display_data",
          "data": {
            "text/plain": [
              "<Figure size 640x480 with 1 Axes>"
            ],
            "image/png": "[encoded data removed]"
          },
          "metadata": {}
        }
      ],
      "source": [
        "plt.imshow((next(iter(train_loader))[0][10].permute(1, 2, 0)))"
      ]
    },
    {
      "cell_type": "code",
      "execution_count": 7,
      "metadata": {
        "id": "zTjsdHs7xRvO"
      },
      "outputs": [],
      "source": [
        "class Encoder(nn.Module):\n",
        "    def __init__(self, input_dim, hidden_dim, latent_dim):\n",
        "        super(Encoder, self).__init__()\n",
        "        self._input = nn.Sequential(\n",
        "            nn.Linear(input_dim, hidden_dim),\n",
        "            nn.LeakyReLU(0.2),\n",
        "            nn.Linear(hidden_dim, hidden_dim),\n",
        "            nn.LeakyReLU(0.2),\n",
        "        )\n",
        "        self._fc_mean  = nn.Linear(hidden_dim, latent_dim)\n",
        "        self._fc_var   = nn.Linear (hidden_dim, latent_dim)\n",
        "\n",
        "    def forward(self, x):\n",
        "        output_  = self._input(x)\n",
        "        mean_    = self._fc_mean(output_)\n",
        "        log_var_ = self._fc_var(output_)\n",
        "        return mean_, log_var_"
      ]
    },
    {
      "cell_type": "code",
      "source": [
        "enc = Encoder(10, 12, 4)\n",
        "x = np.random.normal(1, size=10)\n",
        "t = torch.tensor(x, dtype=torch.float32).reshape(1, 10)\n",
        "out = enc(t)[0]\n",
        "print(out)"
      ],
      "metadata": {
        "colab": {
          "base_uri": "https://localhost:8080/"
        },
        "id": "P1dI5vsO6W2O",
        "outputId": "bc144588-bde0-4436-d274-22d5548072dc"
      },
      "execution_count": 24,
      "outputs": [
        {
          "output_type": "stream",
          "name": "stdout",
          "text": [
            "tensor([[-0.2733, -0.0937,  0.1184, -0.2805]], grad_fn=<AddmmBackward0>)\n"
          ]
        }
      ]
    },
    {
      "cell_type": "code",
      "source": [
        "print(enc, enc._input[0].weight)"
      ],
      "metadata": {
        "colab": {
          "base_uri": "https://localhost:8080/"
        },
        "id": "_z5btyKg6rK8",
        "outputId": "bd32c604-f55f-497a-b4dd-90955995f5e7"
      },
      "execution_count": 25,
      "outputs": [
        {
          "output_type": "stream",
          "name": "stdout",
          "text": [
            "Encoder(\n",
            "  (_input): Sequential(\n",
            "    (0): Linear(in_features=10, out_features=12, bias=True)\n",
            "    (1): LeakyReLU(negative_slope=0.2)\n",
            "    (2): Linear(in_features=12, out_features=12, bias=True)\n",
            "    (3): LeakyReLU(negative_slope=0.2)\n",
            "  )\n",
            "  (_fc_mean): Linear(in_features=12, out_features=4, bias=True)\n",
            "  (_fc_var): Linear(in_features=12, out_features=4, bias=True)\n",
            ") Parameter containing:\n",
            "tensor([[-0.0753,  0.1565, -0.2414,  0.1153, -0.1910, -0.0810, -0.1041,  0.0998,\n",
            "          0.2919, -0.1961],\n",
            "        [-0.1276, -0.1568,  0.2295,  0.1153, -0.0871, -0.0728,  0.0167, -0.2921,\n",
            "         -0.1026, -0.2784],\n",
            "        [ 0.2158,  0.0407, -0.2592,  0.1622, -0.1092,  0.0423, -0.2182,  0.1141,\n",
            "         -0.2379,  0.3117],\n",
            "        [ 0.0903, -0.0175,  0.2558,  0.2922, -0.1295, -0.1853,  0.2907, -0.1324,\n",
            "         -0.3147,  0.1657],\n",
            "        [ 0.2522,  0.2798, -0.0980, -0.2025,  0.0845,  0.2508,  0.0015, -0.0615,\n",
            "          0.1876,  0.2659],\n",
            "        [ 0.1705,  0.3129,  0.2552,  0.0140, -0.2084, -0.2694, -0.0814,  0.1235,\n",
            "         -0.0399,  0.2810],\n",
            "        [ 0.1419, -0.1125,  0.1320, -0.2653, -0.2427,  0.2319, -0.2378, -0.1247,\n",
            "         -0.2384, -0.0202],\n",
            "        [ 0.0665, -0.2509,  0.0112,  0.1492,  0.2261, -0.0856, -0.0656,  0.2577,\n",
            "         -0.2288,  0.0187],\n",
            "        [ 0.0757, -0.0594,  0.1711, -0.0988,  0.2997,  0.2319, -0.1677,  0.1598,\n",
            "         -0.0521,  0.0289],\n",
            "        [-0.0388,  0.3091, -0.0823, -0.1408,  0.2958,  0.0468,  0.1649,  0.2494,\n",
            "          0.2891, -0.2726],\n",
            "        [ 0.2807, -0.2431, -0.3024, -0.1455,  0.2251, -0.2096, -0.1729, -0.2685,\n",
            "          0.1106,  0.0111],\n",
            "        [-0.0676,  0.1306,  0.1217,  0.0079,  0.2703, -0.0215,  0.1937,  0.0415,\n",
            "         -0.2947, -0.1020]], requires_grad=True)\n"
          ]
        }
      ]
    },
    {
      "cell_type": "code",
      "execution_count": 8,
      "metadata": {
        "id": "eLPLOIkYxRvO"
      },
      "outputs": [],
      "source": [
        "class Decoder(nn.Module):\n",
        "    def __init__(self, latent_dim, hidden_dim, output_dim):\n",
        "        super(Decoder, self).__init__()\n",
        "        self._output = nn.Sequential(\n",
        "            nn.Linear(latent_dim, hidden_dim),\n",
        "            nn.LeakyReLU(0.2),\n",
        "            nn.Linear(hidden_dim, hidden_dim),\n",
        "            nn.LeakyReLU(0.2),\n",
        "            nn.Linear(hidden_dim, output_dim),\n",
        "        )\n",
        "\n",
        "    def forward(self, x):\n",
        "        x_ = torch.sigmoid(self._output(x))\n",
        "        return x_"
      ]
    },
    {
      "cell_type": "code",
      "execution_count": 9,
      "metadata": {
        "id": "wiocs18JxRvO"
      },
      "outputs": [],
      "source": [
        "class VAEModel(nn.Module):\n",
        "    def __init__(self, encoder, decoder):\n",
        "        super(VAEModel, self).__init__()\n",
        "        self._encoder = encoder\n",
        "        self._decoder = decoder\n",
        "\n",
        "    def reparameterization(self, mean, var):\n",
        "        epsilon = torch.randn_like(var)       # sampling epsilon\n",
        "        z = mean + var * epsilon              # reparameterization trick\n",
        "        return z\n",
        "\n",
        "    def forward(self, x):\n",
        "        mean_, log_var_ = self._encoder(x)\n",
        "        z = self.reparameterization(mean_, torch.exp(0.5 * log_var_))\n",
        "        x_ = self._decoder(z)\n",
        "        return x_, mean_, log_var_"
      ]
    },
    {
      "cell_type": "code",
      "execution_count": 10,
      "metadata": {
        "colab": {
          "base_uri": "https://localhost:8080/"
        },
        "id": "LDf03iUFxRvP",
        "outputId": "443f19e8-2000-4eb8-a6ec-d33490d22698"
      },
      "outputs": [
        {
          "output_type": "execute_result",
          "data": {
            "text/plain": [
              "VAEModel(\n",
              "  (_encoder): Encoder(\n",
              "    (_input): Sequential(\n",
              "      (0): Linear(in_features=784, out_features=400, bias=True)\n",
              "      (1): LeakyReLU(negative_slope=0.2)\n",
              "      (2): Linear(in_features=400, out_features=400, bias=True)\n",
              "      (3): LeakyReLU(negative_slope=0.2)\n",
              "    )\n",
              "    (_fc_mean): Linear(in_features=400, out_features=200, bias=True)\n",
              "    (_fc_var): Linear(in_features=400, out_features=200, bias=True)\n",
              "  )\n",
              "  (_decoder): Decoder(\n",
              "    (_output): Sequential(\n",
              "      (0): Linear(in_features=200, out_features=400, bias=True)\n",
              "      (1): LeakyReLU(negative_slope=0.2)\n",
              "      (2): Linear(in_features=400, out_features=400, bias=True)\n",
              "      (3): LeakyReLU(negative_slope=0.2)\n",
              "      (4): Linear(in_features=400, out_features=784, bias=True)\n",
              "    )\n",
              "  )\n",
              ")"
            ]
          },
          "metadata": {},
          "execution_count": 10
        }
      ],
      "source": [
        "encoder = Encoder(input_dim=x_dim, hidden_dim=hidden_dim, latent_dim=latent_dim)\n",
        "decoder = Decoder(latent_dim=latent_dim, hidden_dim = hidden_dim, output_dim = x_dim)\n",
        "\n",
        "vae_model = VAEModel(encoder=encoder, decoder=decoder)\n",
        "vae_model"
      ]
    },
    {
      "cell_type": "code",
      "execution_count": 11,
      "metadata": {
        "id": "i9H9jJuIxRvP"
      },
      "outputs": [],
      "source": [
        "from torch.optim import Adam\n",
        "\n",
        "bce_loss = nn.BCELoss()\n",
        "\n",
        "def loss_function(x_in, x_out, mean, log_var):\n",
        "    rep_loss = nn.functional.binary_cross_entropy(x_out, x_in, reduction='sum')\n",
        "    kld      = - 0.5 * torch.sum(1+ log_var - mean.pow(2) - log_var.exp())\n",
        "    return rep_loss + kld\n"
      ]
    },
    {
      "cell_type": "code",
      "execution_count": 12,
      "metadata": {
        "id": "hn0ITVZTxRvP"
      },
      "outputs": [],
      "source": [
        "def showPlot(points):\n",
        "    plt.figure()\n",
        "    fig, ax = plt.subplots()\n",
        "    # this locator puts ticks at regular intervals\n",
        "    loc = ticker.MultipleLocator(base=0.2)\n",
        "    ax.yaxis.set_major_locator(loc)\n",
        "    plt.plot(points)\n",
        "\n",
        "def asMinutes(s):\n",
        "    m = math.floor(s / 60)\n",
        "    s -= m * 60\n",
        "    return '%dm %ds' % (m, s)\n",
        "\n",
        "def timeSince(since, percent):\n",
        "    now = time.time()\n",
        "    s = now - since\n",
        "    es = s / (percent)\n",
        "    rs = es - s\n",
        "    return '%s (- %s)' % (asMinutes(s), asMinutes(rs))"
      ]
    },
    {
      "cell_type": "code",
      "execution_count": 13,
      "metadata": {
        "id": "PigOVrmrxRvP"
      },
      "outputs": [],
      "source": [
        "def train_epoch(dataloader, model, optimizer, criterion):\n",
        "\n",
        "    total_loss = 0\n",
        "    for batch_idx, (data, labels) in enumerate(tqdm(dataloader)):\n",
        "        optimizer.zero_grad()\n",
        "        inputs = data.view(batch_size, -1)\n",
        "\n",
        "        outputs, mean, log_var = model(inputs)\n",
        "\n",
        "        loss = criterion(inputs, outputs, mean, log_var)\n",
        "        total_loss += loss.item()\n",
        "\n",
        "        loss.backward()\n",
        "        optimizer.step()\n",
        "\n",
        "    return total_loss / len(dataloader)"
      ]
    },
    {
      "cell_type": "code",
      "execution_count": 14,
      "metadata": {
        "id": "rsnfTMVpxRvQ"
      },
      "outputs": [],
      "source": [
        "def train(train_dataloader, model, n_epochs, learning_rate=0.001, print_every=100, plot_every=100):\n",
        "    start = time.time()\n",
        "    plot_losses = []\n",
        "    print_loss_total = 0  # Reset every print_every\n",
        "    plot_loss_total = 0  # Reset every plot_every\n",
        "\n",
        "    optimizer = torch.optim.Adam(model.parameters(), lr=learning_rate)\n",
        "    criterion = loss_function\n",
        "    model.train()\n",
        "\n",
        "    for epoch in range(1, n_epochs + 1):\n",
        "        print(\"Epoch\", epoch)\n",
        "        loss = train_epoch(train_dataloader, model, optimizer, criterion)\n",
        "        print_loss_total += loss\n",
        "        plot_loss_total += loss\n",
        "\n",
        "        if epoch % print_every == 0:\n",
        "            print_loss_avg = print_loss_total / print_every\n",
        "            print_loss_total = 0\n",
        "            print('%s (%d %d%%) %.4f' % (timeSince(start, epoch / n_epochs), epoch, epoch / n_epochs * 100, print_loss_avg))\n",
        "\n",
        "        if epoch % plot_every == 0:\n",
        "            plot_loss_avg = plot_loss_total / plot_every\n",
        "            plot_losses.append(plot_loss_avg)\n",
        "            plot_loss_total = 0\n",
        "\n",
        "    showPlot(plot_losses)"
      ]
    },
    {
      "cell_type": "code",
      "execution_count": 15,
      "metadata": {
        "colab": {
          "base_uri": "https://localhost:8080/",
          "height": 1000
        },
        "id": "WVBMbznexRvQ",
        "outputId": "27f30399-f472-45a6-d24f-3f689509b834"
      },
      "outputs": [
        {
          "output_type": "stream",
          "name": "stdout",
          "text": [
            "Epoch 1\n"
          ]
        },
        {
          "output_type": "stream",
          "name": "stderr",
          "text": [
            "100%|██████████| 600/600 [00:26<00:00, 22.27it/s]\n"
          ]
        },
        {
          "output_type": "stream",
          "name": "stdout",
          "text": [
            "0m 26s (- 8m 32s) (1 5%) 17508.6109\n",
            "Epoch 2\n"
          ]
        },
        {
          "output_type": "stream",
          "name": "stderr",
          "text": [
            "100%|██████████| 600/600 [00:27<00:00, 21.62it/s]\n"
          ]
        },
        {
          "output_type": "stream",
          "name": "stdout",
          "text": [
            "0m 54s (- 8m 12s) (2 10%) 12940.4847\n",
            "Epoch 3\n"
          ]
        },
        {
          "output_type": "stream",
          "name": "stderr",
          "text": [
            "100%|██████████| 600/600 [00:26<00:00, 22.63it/s]\n"
          ]
        },
        {
          "output_type": "stream",
          "name": "stdout",
          "text": [
            "1m 21s (- 7m 40s) (3 15%) 11653.2069\n",
            "Epoch 4\n"
          ]
        },
        {
          "output_type": "stream",
          "name": "stderr",
          "text": [
            "100%|██████████| 600/600 [00:26<00:00, 22.22it/s]\n"
          ]
        },
        {
          "output_type": "stream",
          "name": "stdout",
          "text": [
            "1m 48s (- 7m 13s) (4 20%) 11240.9642\n",
            "Epoch 5\n"
          ]
        },
        {
          "output_type": "stream",
          "name": "stderr",
          "text": [
            "100%|██████████| 600/600 [00:25<00:00, 23.52it/s]\n"
          ]
        },
        {
          "output_type": "stream",
          "name": "stdout",
          "text": [
            "2m 13s (- 6m 41s) (5 25%) 10986.4530\n",
            "Epoch 6\n"
          ]
        },
        {
          "output_type": "stream",
          "name": "stderr",
          "text": [
            "100%|██████████| 600/600 [00:26<00:00, 23.04it/s]\n"
          ]
        },
        {
          "output_type": "stream",
          "name": "stdout",
          "text": [
            "2m 39s (- 6m 12s) (6 30%) 10808.9177\n",
            "Epoch 7\n"
          ]
        },
        {
          "output_type": "stream",
          "name": "stderr",
          "text": [
            "100%|██████████| 600/600 [00:26<00:00, 22.34it/s]\n"
          ]
        },
        {
          "output_type": "stream",
          "name": "stdout",
          "text": [
            "3m 6s (- 5m 46s) (7 35%) 10701.1980\n",
            "Epoch 8\n"
          ]
        },
        {
          "output_type": "stream",
          "name": "stderr",
          "text": [
            "100%|██████████| 600/600 [00:27<00:00, 21.52it/s]\n"
          ]
        },
        {
          "output_type": "stream",
          "name": "stdout",
          "text": [
            "3m 34s (- 5m 21s) (8 40%) 10615.0929\n",
            "Epoch 9\n"
          ]
        },
        {
          "output_type": "stream",
          "name": "stderr",
          "text": [
            "100%|██████████| 600/600 [00:26<00:00, 22.45it/s]\n"
          ]
        },
        {
          "output_type": "stream",
          "name": "stdout",
          "text": [
            "4m 1s (- 4m 54s) (9 45%) 10543.4430\n",
            "Epoch 10\n"
          ]
        },
        {
          "output_type": "stream",
          "name": "stderr",
          "text": [
            "100%|██████████| 600/600 [00:30<00:00, 19.52it/s]\n"
          ]
        },
        {
          "output_type": "stream",
          "name": "stdout",
          "text": [
            "4m 32s (- 4m 32s) (10 50%) 10481.7350\n",
            "Epoch 11\n"
          ]
        },
        {
          "output_type": "stream",
          "name": "stderr",
          "text": [
            "100%|██████████| 600/600 [00:26<00:00, 22.80it/s]\n"
          ]
        },
        {
          "output_type": "stream",
          "name": "stdout",
          "text": [
            "4m 58s (- 4m 4s) (11 55%) 10419.2210\n",
            "Epoch 12\n"
          ]
        },
        {
          "output_type": "stream",
          "name": "stderr",
          "text": [
            "100%|██████████| 600/600 [00:25<00:00, 23.32it/s]\n"
          ]
        },
        {
          "output_type": "stream",
          "name": "stdout",
          "text": [
            "5m 24s (- 3m 36s) (12 60%) 10375.7188\n",
            "Epoch 13\n"
          ]
        },
        {
          "output_type": "stream",
          "name": "stderr",
          "text": [
            "100%|██████████| 600/600 [00:26<00:00, 22.30it/s]\n"
          ]
        },
        {
          "output_type": "stream",
          "name": "stdout",
          "text": [
            "5m 51s (- 3m 9s) (13 65%) 10334.7230\n",
            "Epoch 14\n"
          ]
        },
        {
          "output_type": "stream",
          "name": "stderr",
          "text": [
            "100%|██████████| 600/600 [00:27<00:00, 22.03it/s]\n"
          ]
        },
        {
          "output_type": "stream",
          "name": "stdout",
          "text": [
            "6m 18s (- 2m 42s) (14 70%) 10298.1306\n",
            "Epoch 15\n"
          ]
        },
        {
          "output_type": "stream",
          "name": "stderr",
          "text": [
            "100%|██████████| 600/600 [00:27<00:00, 22.22it/s]\n"
          ]
        },
        {
          "output_type": "stream",
          "name": "stdout",
          "text": [
            "6m 45s (- 2m 15s) (15 75%) 10268.8142\n",
            "Epoch 16\n"
          ]
        },
        {
          "output_type": "stream",
          "name": "stderr",
          "text": [
            "100%|██████████| 600/600 [00:26<00:00, 22.27it/s]\n"
          ]
        },
        {
          "output_type": "stream",
          "name": "stdout",
          "text": [
            "7m 12s (- 1m 48s) (16 80%) 10238.0480\n",
            "Epoch 17\n"
          ]
        },
        {
          "output_type": "stream",
          "name": "stderr",
          "text": [
            "100%|██████████| 600/600 [00:26<00:00, 22.91it/s]\n"
          ]
        },
        {
          "output_type": "stream",
          "name": "stdout",
          "text": [
            "7m 38s (- 1m 20s) (17 85%) 10212.2673\n",
            "Epoch 18\n"
          ]
        },
        {
          "output_type": "stream",
          "name": "stderr",
          "text": [
            "100%|██████████| 600/600 [00:26<00:00, 22.47it/s]\n"
          ]
        },
        {
          "output_type": "stream",
          "name": "stdout",
          "text": [
            "8m 5s (- 0m 53s) (18 90%) 10191.0975\n",
            "Epoch 19\n"
          ]
        },
        {
          "output_type": "stream",
          "name": "stderr",
          "text": [
            "100%|██████████| 600/600 [00:27<00:00, 22.13it/s]\n"
          ]
        },
        {
          "output_type": "stream",
          "name": "stdout",
          "text": [
            "8m 32s (- 0m 26s) (19 95%) 10174.0953\n",
            "Epoch 20\n"
          ]
        },
        {
          "output_type": "stream",
          "name": "stderr",
          "text": [
            "100%|██████████| 600/600 [00:27<00:00, 21.76it/s]\n",
            "WARNING:matplotlib.ticker:Locator attempting to generate 40476 ticks ([9781.6, ..., 17876.6]), which exceeds Locator.MAXTICKS (1000).\n"
          ]
        },
        {
          "output_type": "stream",
          "name": "stdout",
          "text": [
            "8m 59s (- 0m 0s) (20 100%) 10149.6401\n"
          ]
        },
        {
          "output_type": "stream",
          "name": "stderr",
          "text": [
            "WARNING:matplotlib.ticker:Locator attempting to generate 40476 ticks ([9781.6, ..., 17876.6]), which exceeds Locator.MAXTICKS (1000).\n",
            "WARNING:matplotlib.ticker:Locator attempting to generate 40476 ticks ([9781.6, ..., 17876.6]), which exceeds Locator.MAXTICKS (1000).\n",
            "WARNING:matplotlib.ticker:Locator attempting to generate 40476 ticks ([9781.6, ..., 17876.6]), which exceeds Locator.MAXTICKS (1000).\n",
            "WARNING:matplotlib.ticker:Locator attempting to generate 40476 ticks ([9781.6, ..., 17876.6]), which exceeds Locator.MAXTICKS (1000).\n",
            "WARNING:matplotlib.ticker:Locator attempting to generate 40476 ticks ([9781.6, ..., 17876.6]), which exceeds Locator.MAXTICKS (1000).\n"
          ]
        },
        {
          "output_type": "display_data",
          "data": {
            "text/plain": [
              "<Figure size 640x480 with 0 Axes>"
            ]
          },
          "metadata": {}
        },
        {
          "output_type": "stream",
          "name": "stderr",
          "text": [
            "WARNING:matplotlib.ticker:Locator attempting to generate 40476 ticks ([9781.6, ..., 17876.6]), which exceeds Locator.MAXTICKS (1000).\n",
            "WARNING:matplotlib.ticker:Locator attempting to generate 40476 ticks ([9781.6, ..., 17876.6]), which exceeds Locator.MAXTICKS (1000).\n",
            "WARNING:matplotlib.ticker:Locator attempting to generate 40476 ticks ([9781.6, ..., 17876.6]), which exceeds Locator.MAXTICKS (1000).\n",
            "WARNING:matplotlib.ticker:Locator attempting to generate 40476 ticks ([9781.6, ..., 17876.6]), which exceeds Locator.MAXTICKS (1000).\n",
            "WARNING:matplotlib.ticker:Locator attempting to generate 40476 ticks ([9781.6, ..., 17876.6]), which exceeds Locator.MAXTICKS (1000).\n",
            "WARNING:matplotlib.ticker:Locator attempting to generate 40476 ticks ([9781.6, ..., 17876.6]), which exceeds Locator.MAXTICKS (1000).\n",
            "WARNING:matplotlib.ticker:Locator attempting to generate 40476 ticks ([9781.6, ..., 17876.6]), which exceeds Locator.MAXTICKS (1000).\n",
            "WARNING:matplotlib.ticker:Locator attempting to generate 40476 ticks ([9781.6, ..., 17876.6]), which exceeds Locator.MAXTICKS (1000).\n",
            "WARNING:matplotlib.ticker:Locator attempting to generate 40476 ticks ([9781.6, ..., 17876.6]), which exceeds Locator.MAXTICKS (1000).\n",
            "WARNING:matplotlib.ticker:Locator attempting to generate 40476 ticks ([9781.6, ..., 17876.6]), which exceeds Locator.MAXTICKS (1000).\n",
            "WARNING:matplotlib.ticker:Locator attempting to generate 40476 ticks ([9781.6, ..., 17876.6]), which exceeds Locator.MAXTICKS (1000).\n",
            "WARNING:matplotlib.ticker:Locator attempting to generate 40476 ticks ([9781.6, ..., 17876.6]), which exceeds Locator.MAXTICKS (1000).\n",
            "WARNING:matplotlib.ticker:Locator attempting to generate 40476 ticks ([9781.6, ..., 17876.6]), which exceeds Locator.MAXTICKS (1000).\n",
            "WARNING:matplotlib.ticker:Locator attempting to generate 40476 ticks ([9781.6, ..., 17876.6]), which exceeds Locator.MAXTICKS (1000).\n",
            "WARNING:matplotlib.ticker:Locator attempting to generate 40476 ticks ([9781.6, ..., 17876.6]), which exceeds Locator.MAXTICKS (1000).\n",
            "WARNING:matplotlib.ticker:Locator attempting to generate 40476 ticks ([9781.6, ..., 17876.6]), which exceeds Locator.MAXTICKS (1000).\n",
            "WARNING:matplotlib.ticker:Locator attempting to generate 40476 ticks ([9781.6, ..., 17876.6]), which exceeds Locator.MAXTICKS (1000).\n",
            "WARNING:matplotlib.ticker:Locator attempting to generate 40476 ticks ([9781.6, ..., 17876.6]), which exceeds Locator.MAXTICKS (1000).\n",
            "WARNING:matplotlib.ticker:Locator attempting to generate 40476 ticks ([9781.6, ..., 17876.6]), which exceeds Locator.MAXTICKS (1000).\n",
            "WARNING:matplotlib.ticker:Locator attempting to generate 40476 ticks ([9781.6, ..., 17876.6]), which exceeds Locator.MAXTICKS (1000).\n",
            "WARNING:matplotlib.ticker:Locator attempting to generate 40476 ticks ([9781.6, ..., 17876.6]), which exceeds Locator.MAXTICKS (1000).\n",
            "WARNING:matplotlib.ticker:Locator attempting to generate 40476 ticks ([9781.6, ..., 17876.6]), which exceeds Locator.MAXTICKS (1000).\n"
          ]
        },
        {
          "output_type": "display_data",
          "data": {
            "text/plain": [
              "<Figure size 640x480 with 1 Axes>"
            ],
            "image/png": "[encoded data removed]"
          },
          "metadata": {}
        }
      ],
      "source": [
        "train(train_loader, vae_model, 20, print_every=1, plot_every=1)"
      ]
    },
    {
      "cell_type": "code",
      "execution_count": 16,
      "metadata": {
        "colab": {
          "base_uri": "https://localhost:8080/"
        },
        "id": "jiHQEBb3xRvQ",
        "outputId": "860dd2bb-592d-4b3e-c3e1-930346c2e014"
      },
      "outputs": [
        {
          "output_type": "stream",
          "name": "stderr",
          "text": [
            "  0%|          | 0/100 [00:00<?, ?it/s]"
          ]
        },
        {
          "output_type": "stream",
          "name": "stdout",
          "text": [
            "torch.Size([100, 1, 28, 28])\n"
          ]
        },
        {
          "output_type": "stream",
          "name": "stderr",
          "text": [
            "\n"
          ]
        }
      ],
      "source": [
        "for batch_idx, (data, labels) in enumerate(tqdm(test_loader)):\n",
        "    print(data.shape)\n",
        "    break"
      ]
    },
    {
      "cell_type": "code",
      "source": [
        "%pip install torcheval"
      ],
      "metadata": {
        "colab": {
          "base_uri": "https://localhost:8080/"
        },
        "id": "Ff7UHzUG1xGO",
        "outputId": "376fdde8-8ca1-45a0-bf4c-c4e5e284af4e"
      },
      "execution_count": 18,
      "outputs": [
        {
          "output_type": "stream",
          "name": "stdout",
          "text": [
            "Collecting torcheval\n",
            "  Downloading torcheval-0.0.7-py3-none-any.whl.metadata (8.6 kB)\n",
            "Requirement already satisfied: typing-extensions in /usr/local/lib/python3.11/dist-packages (from torcheval) (4.12.2)\n",
            "Downloading torcheval-0.0.7-py3-none-any.whl (179 kB)\n",
            "\u001b[?25l   \u001b[90m━━━━━━━━━━━━━━━━━━━━━━━━━━━━━━━━━━━━━━━━\u001b[0m \u001b[32m0.0/179.2 kB\u001b[0m \u001b[31m?\u001b[0m eta \u001b[36m-:--:--\u001b[0m\r\u001b[2K   \u001b[91m━━━━━━━━━━━━━━━━━━━━━━━━━━━━━━━━━━━━━━\u001b[0m\u001b[91m╸\u001b[0m\u001b[90m━\u001b[0m \u001b[32m174.1/179.2 kB\u001b[0m \u001b[31m6.7 MB/s\u001b[0m eta \u001b[36m0:00:01\u001b[0m\r\u001b[2K   \u001b[90m━━━━━━━━━━━━━━━━━━━━━━━━━━━━━━━━━━━━━━━━\u001b[0m \u001b[32m179.2/179.2 kB\u001b[0m \u001b[31m4.6 MB/s\u001b[0m eta \u001b[36m0:00:00\u001b[0m\n",
            "\u001b[?25hInstalling collected packages: torcheval\n",
            "Successfully installed torcheval-0.0.7\n"
          ]
        }
      ]
    },
    {
      "cell_type": "code",
      "execution_count": 19,
      "metadata": {
        "colab": {
          "base_uri": "https://localhost:8080/"
        },
        "id": "I17Av6dUxRvQ",
        "outputId": "5287f4b9-7d29-4032-d6aa-da86fe9c2ebf"
      },
      "outputs": [
        {
          "output_type": "stream",
          "name": "stderr",
          "text": [
            "100%|██████████| 100/100 [00:02<00:00, 39.61it/s]\n"
          ]
        },
        {
          "output_type": "stream",
          "name": "stdout",
          "text": [
            "PeakSignalNoiseRatio 18.954204559326172\n"
          ]
        },
        {
          "output_type": "execute_result",
          "data": {
            "text/plain": [
              "torch.Size([10000, 2, 784])"
            ]
          },
          "metadata": {},
          "execution_count": 19
        }
      ],
      "source": [
        "from torcheval.metrics import PeakSignalNoiseRatio\n",
        "\n",
        "def evaluate(test_dataloader, model):\n",
        "    images = []\n",
        "\n",
        "    metric = PeakSignalNoiseRatio()\n",
        "    model.eval()\n",
        "    for batch_idx, (data, labels) in enumerate(tqdm(test_dataloader)):\n",
        "        with torch.no_grad():\n",
        "            inputs = data.view(batch_size, -1)\n",
        "            outputs, _, _ = model(inputs)\n",
        "            images.append((inputs.cpu().detach(), outputs.cpu().detach()))\n",
        "            metric.update(inputs, outputs)\n",
        "\n",
        "    print(\"PeakSignalNoiseRatio\", metric.compute().item())\n",
        "    return torch.tensor(np.array(images)).permute(0, 2, 1, 3).reshape(-1, 2, 28 * 28)\n",
        "\n",
        "images = evaluate(test_loader, vae_model)\n",
        "images.shape\n"
      ]
    },
    {
      "cell_type": "code",
      "execution_count": 20,
      "metadata": {
        "colab": {
          "base_uri": "https://localhost:8080/",
          "height": 448
        },
        "id": "LG4bmjCzxRvQ",
        "outputId": "e4c25385-3233-4313-f124-f7ee212a9d50"
      },
      "outputs": [
        {
          "output_type": "execute_result",
          "data": {
            "text/plain": [
              "<matplotlib.image.AxesImage at 0x7d45093c5910>"
            ]
          },
          "metadata": {},
          "execution_count": 20
        },
        {
          "output_type": "display_data",
          "data": {
            "text/plain": [
              "<Figure size 640x480 with 1 Axes>"
            ],
            "image/png": "[encoded data removed]"
          },
          "metadata": {}
        }
      ],
      "source": [
        "plt.imshow(images[0][1].reshape(28, 28))"
      ]
    },
    {
      "cell_type": "code",
      "execution_count": 21,
      "metadata": {
        "colab": {
          "base_uri": "https://localhost:8080/",
          "height": 453
        },
        "id": "zULy8VM7xRvQ",
        "outputId": "d475657c-ef0f-4d31-81d0-1f35e311f61b"
      },
      "outputs": [
        {
          "output_type": "stream",
          "name": "stdout",
          "text": [
            "(10, 2)\n"
          ]
        },
        {
          "output_type": "display_data",
          "data": {
            "text/plain": [
              "<Figure size 640x480 with 20 Axes>"
            ],
            "image/png": "[encoded data removed]"
          },
          "metadata": {}
        }
      ],
      "source": [
        "n_images = 10\n",
        "fig, ax = plt.subplots(nrows=n_images, ncols=2)\n",
        "print(ax.shape)\n",
        "indices = np.random.choice(len(images), n_images)\n",
        "for idx in range(n_images):\n",
        "    ax[idx][0].imshow(images[idx][0].reshape(28, 28))\n",
        "    ax[idx][1].imshow(images[idx][1].reshape(28, 28))\n"
      ]
    },
    {
      "cell_type": "code",
      "execution_count": 22,
      "metadata": {
        "colab": {
          "base_uri": "https://localhost:8080/",
          "height": 448
        },
        "id": "pYiYHWydxRvR",
        "outputId": "87240c41-a2c7-42ee-9c98-e92b0ffb23fe"
      },
      "outputs": [
        {
          "output_type": "execute_result",
          "data": {
            "text/plain": [
              "<matplotlib.image.AxesImage at 0x7d4508f27a90>"
            ]
          },
          "metadata": {},
          "execution_count": 22
        },
        {
          "output_type": "display_data",
          "data": {
            "text/plain": [
              "<Figure size 640x480 with 1 Axes>"
            ],
            "image/png": "[encoded data removed]"
          },
          "metadata": {}
        }
      ],
      "source": [
        "def generate(decoder):\n",
        "    noise = torch.randn(batch_size, latent_dim)\n",
        "    generated_images = decoder(noise).cpu().detach()\n",
        "    return generated_images\n",
        "\n",
        "generated_images = generate(decoder=decoder)\n",
        "plt.imshow(generated_images[0].reshape(28, 28))"
      ]
    },
    {
      "cell_type": "code",
      "execution_count": null,
      "metadata": {
        "id": "0xVsOf7qxRvR"
      },
      "outputs": [],
      "source": []
    }
  ],
  "metadata": {
    "kernelspec": {
      "display_name": ".venv",
      "language": "python",
      "name": "python3"
    },
    "language_info": {
      "codemirror_mode": {
        "name": "ipython",
        "version": 3
      },
      "file_extension": ".py",
      "mimetype": "text/x-python",
      "name": "python",
      "nbconvert_exporter": "python",
      "pygments_lexer": "ipython3",
      "version": "3.9.6"
    },
    "colab": {
      "provenance": []
    }
  },
  "nbformat": 4,
  "nbformat_minor": 0
}